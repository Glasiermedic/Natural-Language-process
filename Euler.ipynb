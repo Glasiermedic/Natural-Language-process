{
  "nbformat": 4,
  "nbformat_minor": 0,
  "metadata": {
    "colab": {
      "name": "Euler.ipynb",
      "version": "0.3.2",
      "provenance": [],
      "include_colab_link": true
    },
    "kernelspec": {
      "name": "python3",
      "display_name": "Python 3"
    }
  },
  "cells": [
    {
      "cell_type": "markdown",
      "metadata": {
        "id": "view-in-github",
        "colab_type": "text"
      },
      "source": [
        "<a href=\"https://colab.research.google.com/github/Glasiermedic/Natural-Language-process/blob/master/Euler.ipynb\" target=\"_parent\"><img src=\"https://colab.research.google.com/assets/colab-badge.svg\" alt=\"Open In Colab\"/></a>"
      ]
    },
    {
      "cell_type": "code",
      "metadata": {
        "id": "hZ6v28iuIipT",
        "colab_type": "code",
        "colab": {}
      },
      "source": [
        "\n",
        "#https://projecteuler.net\n",
        "\n",
        "import math\n",
        "import random\n",
        "import numpy as np\n",
        "import pandas as pd\n",
        "import time"
      ],
      "execution_count": 0,
      "outputs": []
    },
    {
      "cell_type": "markdown",
      "metadata": {
        "id": "aWsjdmxUJY8o",
        "colab_type": "text"
      },
      "source": [
        "#### find multiples of 3 or 5 below 1000"
      ]
    },
    {
      "cell_type": "code",
      "metadata": {
        "id": "whyUO8A3Jetu",
        "colab_type": "code",
        "colab": {
          "base_uri": "https://localhost:8080/",
          "height": 34
        },
        "outputId": "936e8fc0-a2ee-42bf-fdf3-8841f672cd35"
      },
      "source": [
        "target = 0\n",
        "\n",
        "for i in range (1000):\n",
        "  if i % 3 == 0  or i % 5 == 0:\n",
        "    target += i\n",
        "print(target)\n",
        "  \n",
        "    "
      ],
      "execution_count": 3,
      "outputs": [
        {
          "output_type": "stream",
          "text": [
            "233168\n"
          ],
          "name": "stdout"
        }
      ]
    },
    {
      "cell_type": "markdown",
      "metadata": {
        "id": "jKuD2bFCKiPe",
        "colab_type": "text"
      },
      "source": [
        "#### Fibonacci sequence"
      ]
    },
    {
      "cell_type": "code",
      "metadata": {
        "id": "5JhFrQSwKHGn",
        "colab_type": "code",
        "colab": {
          "base_uri": "https://localhost:8080/",
          "height": 233
        },
        "outputId": "86624173-94da-4fdb-bb0c-5b62146a482e"
      },
      "source": [
        "n=0\n",
        "\n",
        "fib_list = [1,2]\n",
        "even_fib = 0\n",
        "ending = False\n",
        "while not ending:\n",
        "  if fib_list[n+1] + fib_list[n] < 4000000:\n",
        "    fib_list.append(fib_list[n+1] + fib_list[n])\n",
        "    \n",
        "  else:\n",
        "    ending = True\n",
        "for i in range(len(fib_list)):\n",
        "  if fib_list[i] % 2 ==0:\n",
        "      even_fib += fib_list[i] \n",
        "      \n",
        "print(even_fib)\n",
        "  "
      ],
      "execution_count": 4,
      "outputs": [
        {
          "output_type": "error",
          "ename": "KeyboardInterrupt",
          "evalue": "ignored",
          "traceback": [
            "\u001b[0;31m---------------------------------------------------------------------------\u001b[0m",
            "\u001b[0;31mKeyboardInterrupt\u001b[0m                         Traceback (most recent call last)",
            "\u001b[0;32m<ipython-input-4-146601b3f21e>\u001b[0m in \u001b[0;36m<module>\u001b[0;34m()\u001b[0m\n\u001b[1;32m      6\u001b[0m \u001b[0;32mwhile\u001b[0m \u001b[0;32mnot\u001b[0m \u001b[0mending\u001b[0m\u001b[0;34m:\u001b[0m\u001b[0;34m\u001b[0m\u001b[0;34m\u001b[0m\u001b[0m\n\u001b[1;32m      7\u001b[0m   \u001b[0;32mif\u001b[0m \u001b[0mfib_list\u001b[0m\u001b[0;34m[\u001b[0m\u001b[0mn\u001b[0m\u001b[0;34m+\u001b[0m\u001b[0;36m1\u001b[0m\u001b[0;34m]\u001b[0m \u001b[0;34m+\u001b[0m \u001b[0mfib_list\u001b[0m\u001b[0;34m[\u001b[0m\u001b[0mn\u001b[0m\u001b[0;34m]\u001b[0m \u001b[0;34m<\u001b[0m \u001b[0;36m4000000\u001b[0m\u001b[0;34m:\u001b[0m\u001b[0;34m\u001b[0m\u001b[0;34m\u001b[0m\u001b[0m\n\u001b[0;32m----> 8\u001b[0;31m     \u001b[0mfib_list\u001b[0m\u001b[0;34m.\u001b[0m\u001b[0mappend\u001b[0m\u001b[0;34m(\u001b[0m\u001b[0mfib_list\u001b[0m\u001b[0;34m[\u001b[0m\u001b[0mn\u001b[0m\u001b[0;34m+\u001b[0m\u001b[0;36m1\u001b[0m\u001b[0;34m]\u001b[0m \u001b[0;34m+\u001b[0m \u001b[0mfib_list\u001b[0m\u001b[0;34m[\u001b[0m\u001b[0mn\u001b[0m\u001b[0;34m]\u001b[0m\u001b[0;34m)\u001b[0m\u001b[0;34m\u001b[0m\u001b[0;34m\u001b[0m\u001b[0m\n\u001b[0m\u001b[1;32m      9\u001b[0m \u001b[0;34m\u001b[0m\u001b[0m\n\u001b[1;32m     10\u001b[0m   \u001b[0;32melse\u001b[0m\u001b[0;34m:\u001b[0m\u001b[0;34m\u001b[0m\u001b[0;34m\u001b[0m\u001b[0m\n",
            "\u001b[0;31mKeyboardInterrupt\u001b[0m: "
          ]
        }
      ]
    },
    {
      "cell_type": "markdown",
      "metadata": {
        "id": "dOcn2A3wWnJA",
        "colab_type": "text"
      },
      "source": [
        "Palendrome numbers"
      ]
    },
    {
      "cell_type": "code",
      "metadata": {
        "id": "HepxAU-9M8W1",
        "colab_type": "code",
        "colab": {
          "base_uri": "https://localhost:8080/",
          "height": 34
        },
        "outputId": "96bf1343-1d8d-4b3f-b055-ab10ca500188"
      },
      "source": [
        "def is_palindrome(number):\n",
        "    output = str(number)\n",
        "    fwd = 0\n",
        "    back = len(output) - 1\n",
        "\n",
        "    is_pal = False\n",
        "\n",
        "    for i in range(len(output) // 2):\n",
        "        if output[fwd] != output[back]:\n",
        "            is_pal = False\n",
        "            break\n",
        "        else:\n",
        "            is_pal = True\n",
        "\n",
        "        fwd += 1\n",
        "        back -= 1\n",
        "\n",
        "    return is_pal\n",
        "\n",
        "pal_list = []\n",
        "\n",
        "for num1 in range(999, -1, -1):\n",
        "    for num2 in range(999, -1, -1):\n",
        "        if is_palindrome(num1 * num2):\n",
        "            pal_list.append(num1 * num2)\n",
        "\n",
        "print(np.max(pal_list))"
      ],
      "execution_count": 5,
      "outputs": [
        {
          "output_type": "stream",
          "text": [
            "906609\n"
          ],
          "name": "stdout"
        }
      ]
    },
    {
      "cell_type": "code",
      "metadata": {
        "id": "MRrMJVGeWvOt",
        "colab_type": "code",
        "colab": {}
      },
      "source": [
        ""
      ],
      "execution_count": 0,
      "outputs": []
    }
  ]
}