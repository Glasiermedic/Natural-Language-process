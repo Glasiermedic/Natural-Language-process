{
  "nbformat": 4,
  "nbformat_minor": 0,
  "metadata": {
    "colab": {
      "name": "4.4.3 Unsupervised NLP.ipynb",
      "version": "0.3.2",
      "provenance": [],
      "include_colab_link": true
    },
    "language_info": {
      "codemirror_mode": {
        "name": "ipython",
        "version": 3
      },
      "file_extension": ".py",
      "mimetype": "text/x-python",
      "name": "python",
      "nbconvert_exporter": "python",
      "pygments_lexer": "ipython3",
      "version": "3.7.1"
    },
    "kernelspec": {
      "display_name": "Python 3",
      "language": "python",
      "name": "python3"
    }
  },
  "cells": [
    {
      "cell_type": "markdown",
      "metadata": {
        "id": "view-in-github",
        "colab_type": "text"
      },
      "source": [
        "<a href=\"https://colab.research.google.com/github/Glasiermedic/Natural-Language-process/blob/master/4_4_3_Unsupervised_NLP.ipynb\" target=\"_parent\"><img src=\"https://colab.research.google.com/assets/colab-badge.svg\" alt=\"Open In Colab\"/></a>"
      ]
    },
    {
      "cell_type": "code",
      "metadata": {
        "run_control": {
          "frozen": false,
          "read_only": false
        },
        "id": "o92dtgyq2hWe",
        "colab_type": "code",
        "colab": {}
      },
      "source": [
        "import numpy as np\n",
        "import pandas as pd\n",
        "import scipy\n",
        "import matplotlib.pyplot as plt\n",
        "import seaborn as sns\n",
        "%matplotlib inline"
      ],
      "execution_count": 0,
      "outputs": []
    },
    {
      "cell_type": "markdown",
      "metadata": {
        "run_control": {
          "frozen": false,
          "read_only": false
        },
        "id": "PBhgGr2F2hWh",
        "colab_type": "text"
      },
      "source": [
        "# Semantics\n",
        "\n",
        "With all the information we were able to pull out of the text, one thing we didn't really use was semantics- the *meaning* of the words and sentences.  Our supervised learning model 'knows' that Jane Austen tends to use the word 'lady' a lot in her writing, and it may know (if you included parts of speech as features) that 'lady' is a noun, but it doesn't know what a lady is.  There is nothing in our work on NLP so far that would allow a model to say whether 'queen' or 'car' is more similar to 'lady.' \n",
        "\n",
        "This severely limits the applicability of our NLP skills!  In the absence of semantic information, models can get tripped up on things like synonyms ('milady' and 'lady'). We could modify the spaCy dictionary to include 'lady' as the lemma of 'milady,' then use lemmas for all our analyses, but for this to be an effective approach we would have to go through our entire corpus and identify all synonyms for all words by hand. This approach would also discard subtle differences in the connotations of (words, concepts, ideas, or emotions associated with) 'lady' (elicits thoughts of formal manners and England) and 'milady' (elicits thoughts of medieval ages and Rennaissance Faires).  \n",
        "\n",
        "Basically, language is complicated, and trying to explicitly model all the information encoded in language is nearly impossibly complicated.  Fortunately, unsupervised modeling techniques, and particularly unsupervised neural networks, are perfect for this kind of task.  Rather than us 'telling' the model how language works and what each sentence means, we can feed the model a corpus of text and have it 'learn' the rules by identifying recurring patterns within the corpus.  Then we can use the trained unsupervised model to understand new sentences as well.  \n",
        "\n",
        "As with supervised NLP, unsupervised models are limited by their corpus- an unsupervised model trained on a medical database is unlikely to know that 'lady' and 'milady' are similar, just as a model trained on Jane Austen wouldn't catch that 'Ehler-Danlos Syndrome' and 'joint hypermobility' describe the same medical condition.  \n",
        "\n",
        "In this assignment, we are going to introduce Latent Semantic Analysis.  In the next, we will discuss unsupervised neural network applications for NLP.  \n",
        "\n",
        "# Converting sentences to vectors\n",
        "\n",
        "Consider the following sentences:\n",
        "\n",
        "1. \"The best Monty Python sketch is the one about the dead parrot,  I laughed so hard.\"\n",
        "2. \"I laugh when I think about Python's Ministry of Silly Walks sketch, it is funny, funny, funny, the best!\"\n",
        "3. \"Chocolate is the best ice cream dessert topping, with a great taste.\"\n",
        "4. \"The Lumberjack Song is the funniest Monty Python bit: I can't think of it without laughing.\"\n",
        "5. \"I would rather put strawberries on my ice cream for dessert, they have the best taste.\"\n",
        "6. \"The taste of caramel is a fantastic accompaniment to tasty mint ice cream.\"\n",
        "\n",
        "As a human being, it's easy to see that the sentences involve two topics, comedy and ice cream.   One way to represent the sentences is in a term-document matrix, with a column for each sentence and a row for each word.  Ignoring the stop words 'the', 'is','and', 'a', 'of,','I', and 'about,', discarding words that occur only once, and reducing words like 'laughing' to their root form ('laugh'), the term-document matrix for these sentences would be:\n",
        "\n",
        "|           | 1 | 2 | 3 | 4 | 5 | 6 |\n",
        "|-----------|---|---|---|---|---|---|\n",
        "| Monty     | 1 | 0 | 0 | 1 | 0 | 0 |\n",
        "| Python    | 1 | 1 | 0 | 1 | 0 | 0 |\n",
        "| sketch    | 1 | 1 | 0 | 0 | 0 | 0 |\n",
        "| laugh     | 1 | 1 | 0 | 1 | 0 | 0 |\n",
        "| funny     | 0 | 3 | 0 | 1 | 0 | 0 |\n",
        "| best      | 1 | 1 | 1 | 0 | 1 | 0 |\n",
        "| ice cream | 0 | 0 | 1 | 0 | 1 | 1 |\n",
        "| dessert   | 0 | 0 | 1 | 0 | 1 | 0 |\n",
        "| taste     | 0 | 0 | 1 | 0 | 1 | 2 |\n",
        "\n",
        "Note that we use the term 'document' to refer to the individual text chunks we are working with. It can sometimes mean sentences, sometimes paragraphs, and sometimes whole text files.  In our cases, each sentence is a document.  Also note that, contrary to how we usually operate, a term-document matrix has words as rows and documents as columns.\n",
        "\n",
        "The comedy sentences use the words: Python (3), laugh (3), Monty (2), sketch (2), funny (2), and best (2).\n",
        "The ice cream sentences use the words: ice cream (3), dessert (3), taste (3), and best (2).\n",
        "\n",
        "The word 'best' stands out here- it appears in more sentences than any other word (4 of 6).  It is used equally to describe Monty Python and ice cream.  If we were to use this term-document matrix as-is to teach a computer to parse sentences, 'best' would end up as a significant identifier for both topics, and every time we gave the model a new sentence to identify that included 'best,' it would bring up both topics.  Not very useful.  To avoid this, we want to weight the matrix so that words that occur in many different sentences have lower weights than words that occur in fewer sentences.  We do want to put a floor on this though-- words that only occur once are totally useless for finding associations between sentences.  \n",
        "\n",
        "Another word that stands out is 'funny', which appears more often in the comedy sentences than any other word.  This suggests that 'funny' is a very important word for defining the 'comedy' topic.  \n",
        "\n",
        "# Quantifying documents: Collection and document frequencies\n",
        "\n",
        "'Document frequency' counts how many sentences a word appears in.  'Collection frequency' counts how often a word appears, total, over all sentences.  Let's calculate the df and cf for our sentence set:\n",
        "\n",
        "|           |df |cf| \n",
        "|-----------|---|---|\n",
        "| Monty     | 2 | 2 | \n",
        "| Python    | 3 | 3 | \n",
        "| sketch    | 2 | 2 | \n",
        "| laugh     | 3 | 3 | \n",
        "| funny     | 2 | 4 | \n",
        "| best      | 4 | 4 | \n",
        "| ice cream | 3 | 3 | \n",
        "| dessert   | 2 | 2 | \n",
        "| taste     | 3 | 4 | \n",
        "\n",
        "# Penalizing Indiscriminate Words: Inverse Document Frequency\n",
        "\n",
        "Now let's weight the document frequency so that words that occur less often (like 'sketch' and 'dessert') are more influential than words that occur a lot (like 'best').  We will calculate the ratio of total documents (N) divided by df, then take the log (base 2) of the ratio, to get our inverse document frequency number (idf) for each term (t):\n",
        "\n",
        "$$idf_t=log \\dfrac N{df_t}$$\n",
        "\n",
        "\n",
        "|           |df |cf| idf |\n",
        "|-----------|---|---|\n",
        "| Monty     | 2 | 2 | 1.585 |\n",
        "| Python    | 3 | 3 | 1 |\n",
        "| sketch    | 2 | 2 | 1.585 |\n",
        "| laugh     | 3 | 3 | 1 |\n",
        "| funny     | 2 | 4 | 1.585 |\n",
        "| best      | 4 | 4 | .585 |\n",
        "| ice cream | 3 | 3 | 1 |\n",
        "| dessert   | 2 | 2 | 1.585 |\n",
        "| taste     | 3 | 4 | 1 |\n",
        "\n",
        "The idf weights tell the model to consider 'best' as less important than other terms.  \n",
        "\n",
        "# Term-frequency weights\n",
        "The next piece of information to consider for our weights is how frequently a term appears within a sentence.  The word 'funny' appears three times in one sentence- it would be good if we were able to weight 'funny' so that the model knows that. We can accomplish this by creating unique weights for each sentence that combine the term frequency (how often a word appears within an individual document) with the idf, like so:\n",
        "\n",
        "$$tf-idf_{t,d}=(tf_{t,d})(idf_t)$$\n",
        "\n",
        "Now the term 'funny' in sentence 2, where it occurs three times, will be weighted more heavily than the term 'funny' in sentence 1, where it only occurs once.  If 'best' had appeared multiple times in one sentence, it would also have a higher weight for that sentence, but the weight would be reduced by the idf term that takes into account that 'best' is a pretty common word in our collection of sentences.\n",
        "\n",
        "The tf_idf score will be highest for a term that occurs a lot within a small number of sentences, and lowest for a word that occurs in most or all sentences.  \n",
        "\n",
        "Now we can represent each sentence as a vector made up of the tf-idf scores for each word:\n",
        "\n",
        "|           | 1 | 2 | 3 | \n",
        "|-----------|---|---|---|\n",
        "| Monty     | 1.585 | 0 | 0 |\n",
        "| Python    | 1 | 1 | 0 | \n",
        "| sketch    | 1.585| 1.585 | 0 | \n",
        "| laugh     | 1 | 1 | 0 | \n",
        "| funny     | 0 | 4.755 | 0 | \n",
        "| best      | .585 | .585 | .585 | \n",
        "| ice cream | 0 | 0 | 1 | \n",
        "| dessert   | 0 | 0 | 1.585 | \n",
        "| taste     | 0 | 0 | 1 |\n",
        "\n",
        "\n",
        "\n",
        "## Drill: tf-idf scores\n",
        "\n",
        "Converting sentences into numeric vectors is fundamental for a lot of unsupervised NLP tasks.  To make sure you are solid on how these vectors work, please generate the vectors for the last three sentences.  If you are feeling uncertain, have your mentor walk you through it.\n",
        "\n",
        "(solution for 4, 5, and 6:\n",
        "\n",
        "4. 1.585, 1, 0, 1, 1.585, 0,0,0,0\n",
        "5. 0,0,0,0,0, .585, 1, 1.585, 1\n",
        "6. 0,0,0,0,0,0, 1, 0, 2)\n",
        "\n"
      ]
    },
    {
      "cell_type": "markdown",
      "metadata": {
        "run_control": {
          "frozen": false,
          "read_only": false
        },
        "id": "R1BViu2o2hWi",
        "colab_type": "text"
      },
      "source": [
        "You can think of the tf-idf vectors as a 'translation' from human-readable language to computer-usable numeric form.  Some information is inevitably lost in translation, and the usefulness of any model we build from here on out depends on the decisions we made during the translation step.  Possible decision-points include:\n",
        "\n",
        "* Which stop words to include or exclude\n",
        "* Should we use phrases ('Monty Python' instead of 'Monty' and 'Python') as terms\n",
        "* The threshold for infrequent words: Here, we excluded words that only occurred once.  In longer documents, it may be a good idea to set a higher threshold.\n",
        "* How many terms to keep.  We kept all the terms that fit our criteria (not a stop word, occurred more than once), but for bigger document collections or longer documents, this may create unfeasibly long vectors.  We may want to decide to only keep the 10,000 words with the highest collection frequency scores, for example.\n",
        "\n",
        "# Vector Space Model\n",
        "\n",
        "Our vector representation of the text is referred to as a Vector Space Model.  We can use this representation to compute the similarity between our sentences and a new phrase or sentence- this method is often used by search engines to match a query to possible results.  \n",
        "\n",
        "By now, you've had some practice thinking of data as existing in multi-dimensional space.  Our sentences exist in an n-dimensional space where n is equal to the number of terms in our term-document matrix.  To compute the similarity of our sentences to a new sentence, we transform the new sentence into a vector and place it in the space.  We can then calculate how different the angles are for our original vectors and the new vector, and identify the vector whose angle is closest to the new vector.  Typically this is done by calculating the cosine of the angle between the vectors.  If the two vectors are identical, the angle between them will be 0° and the cosine will be 1.  If the two vectors are orthogonal, with an angle of 90°, the cosine will be 0.  \n",
        "\n",
        "If we were running a search query, then, we would return sentences that were most similar to the query sentence, ordered from the highest similarity score (cosine) to the lowest.  Pretty handy!\n",
        "\n",
        "# Latent Semantic Analysis\n",
        "\n",
        "Cool as this is, there are limitations to the VSM.  In particular, because it treats each word as distinct from every other word, it can run aground on *synonyms* (treating words that mean the same thing as though they are different, like big and large).  Also, because it treats all occurrences of a word as the same regardless of context, it can run aground on *polysemy*, where there are different meanings attached to the same word: 'I need a break' vs 'I break things.'  In addition, VSM has difficulty with very large documents because the more words a document has, the more opportunities it has to diverge from other documents in the space, making it difficult to see similarities.\n",
        "\n",
        "A solution to this problem is to reduce our tf-idf-weighted term-document matrix into a lower-dimensional space, that is, to express the information in the matrix using fewer rows by combining the information from multiple terms into one new row/dimension.  We do this using Principal Components Analysis, which you may recall from [an earlier assignment](https://courses.thinkful.com/data-201v1/assignment/2.1.6).  \n",
        "\n",
        "So Latent Semantic Analysis (also called Latent Semantic Indexing) is the process of applying PCA to a tf-idf term-document matrix.  What we get, in the end, is clusters of terms that presumably reflect a topic.  Each document will get a score for each topic, with higher scores indicating that the document is relevant to the topic.  Documents can pertain to more than one topic.\n",
        "\n",
        "LSA is handy when your corpus is too large to topically annotate by hand, or when you don't know what topics characterize your documents.  It is also useful as a way of creating features to be used in other models.\n",
        "\n",
        "Let's try it out!  Once again, we'll use the gutenberg corpus.   This time, we'll focus on comparing paragraphs within Emma by Jane Austen."
      ]
    },
    {
      "cell_type": "code",
      "metadata": {
        "run_control": {
          "frozen": false,
          "read_only": false
        },
        "id": "tAR44MQt2hWi",
        "colab_type": "code",
        "colab": {
          "base_uri": "https://localhost:8080/",
          "height": 124
        },
        "outputId": "6e816141-7cd5-4ab1-baab-d6d72068e7f9"
      },
      "source": [
        "import nltk\n",
        "from nltk.corpus import gutenberg\n",
        "nltk.download('punkt')\n",
        "nltk.download('gutenberg')\n",
        "import re\n",
        "from sklearn.model_selection import train_test_split\n",
        "\n",
        "#reading in the data, this time in the form of paragraphs\n",
        "emma=gutenberg.paras('austen-emma.txt')\n",
        "#processing\n",
        "emma_paras=[]\n",
        "for paragraph in emma:\n",
        "    para=paragraph[0]\n",
        "    #removing the double-dash from all words\n",
        "    para=[re.sub(r'--','',word) for word in para]\n",
        "    #Forming each paragraph into a string and adding it to the list of strings.\n",
        "    emma_paras.append(' '.join(para))\n",
        "\n",
        "print(emma_paras[0:4])"
      ],
      "execution_count": 2,
      "outputs": [
        {
          "output_type": "stream",
          "text": [
            "[nltk_data] Downloading package punkt to /root/nltk_data...\n",
            "[nltk_data]   Unzipping tokenizers/punkt.zip.\n",
            "[nltk_data] Downloading package gutenberg to /root/nltk_data...\n",
            "[nltk_data]   Unzipping corpora/gutenberg.zip.\n",
            "['[ Emma by Jane Austen 1816 ]', 'VOLUME I', 'CHAPTER I', 'Emma Woodhouse , handsome , clever , and rich , with a comfortable home and happy disposition , seemed to unite some of the best blessings of existence ; and had lived nearly twenty - one years in the world with very little to distress or vex her .']\n"
          ],
          "name": "stdout"
        }
      ]
    },
    {
      "cell_type": "markdown",
      "metadata": {
        "run_control": {
          "frozen": false,
          "read_only": false
        },
        "id": "d3i_JjIQ2hWp",
        "colab_type": "text"
      },
      "source": [
        "# tfidf in sklearn\n",
        "\n",
        "Happily for us, sklearn has a tfidf function that will do all our heavy lifting.  It also has a [very long list of stop words](https://github.com/scikit-learn/scikit-learn/blob/master/sklearn/feature_extraction/stop_words.py).  Since we're going to be doing dimension reduction later on anyway, let's keep all the words for now."
      ]
    },
    {
      "cell_type": "code",
      "metadata": {
        "run_control": {
          "frozen": false,
          "read_only": false
        },
        "scrolled": false,
        "id": "TQETiMnO2hWr",
        "colab_type": "code",
        "colab": {
          "base_uri": "https://localhost:8080/",
          "height": 69
        },
        "outputId": "95002a24-95b9-41d1-d41f-ef927d18db9f"
      },
      "source": [
        "from sklearn.feature_extraction.text import TfidfVectorizer\n",
        "\n",
        "X_train, X_test = train_test_split(emma_paras, test_size=0.4, random_state=0)\n",
        "\n",
        "vectorizer = TfidfVectorizer(max_df=0.6, # drop words that occur in more than half the paragraphs\n",
        "                             min_df=2, # only use words that appear at least twice\n",
        "                             stop_words='english', \n",
        "                             lowercase=True, #convert everything to lower case (since Alice in Wonderland has the HABIT of CAPITALIZING WORDS for EMPHASIS)\n",
        "                             use_idf=True,#we definitely want to use inverse document frequencies in our weighting\n",
        "                             norm=u'l2', #Applies a correction factor so that longer paragraphs and shorter paragraphs get treated equally\n",
        "                             smooth_idf=True #Adds 1 to all document frequencies, as if an extra document existed that used every word once.  Prevents divide-by-zero errors\n",
        "                            )\n",
        "\n",
        "\n",
        "#Applying the vectorizer\n",
        "emma_paras_tfidf=vectorizer.fit_transform(emma_paras)\n",
        "print(\"Number of features: %d\" % emma_paras_tfidf.get_shape()[1])\n",
        "\n",
        "#splitting into training and test sets\n",
        "X_train_tfidf, X_test_tfidf= train_test_split(emma_paras_tfidf, test_size=0.4, random_state=0)\n",
        "\n",
        "\n",
        "#Reshapes the vectorizer output into something people can read\n",
        "X_train_tfidf_csr = X_train_tfidf.tocsr()\n",
        "\n",
        "#number of paragraphs\n",
        "n = X_train_tfidf_csr.shape[0]\n",
        "#A list of dictionaries, one per paragraph\n",
        "tfidf_bypara = [{} for _ in range(0,n)]\n",
        "#List of features\n",
        "terms = vectorizer.get_feature_names()\n",
        "#for each paragraph, lists the feature words and their tf-idf scores\n",
        "for i, j in zip(*X_train_tfidf_csr.nonzero()):\n",
        "    tfidf_bypara[i][terms[j]] = X_train_tfidf_csr[i, j]\n",
        "\n",
        "#Keep in mind that the log base 2 of 1 is 0, so a tf-idf score of 0 indicates that the word was present once in that sentence.\n",
        "print('Original sentence:', X_train[5])\n",
        "print('Tf_idf vector:', tfidf_bypara[5])"
      ],
      "execution_count": 17,
      "outputs": [
        {
          "output_type": "stream",
          "text": [
            "Number of features: 1948\n",
            "Original sentence: A very few minutes more , however , completed the present trial .\n",
            "Tf_idf vector: {'minutes': array(0.71274503), 'present': array(0.70142321)}\n"
          ],
          "name": "stdout"
        }
      ]
    },
    {
      "cell_type": "markdown",
      "metadata": {
        "run_control": {
          "frozen": false,
          "read_only": false
        },
        "id": "crui-5AP2hWv",
        "colab_type": "text"
      },
      "source": [
        "# Dimension reduction\n",
        "Okay, now we have our vectors, with one vector per paragraph.  It's time to do some dimension reduction.  We use the Singular Value Decomposition (SVD) function from sklearn rather than PCA because we don't want to mean-center our variables (and thus lose sparsity):"
      ]
    },
    {
      "cell_type": "code",
      "metadata": {
        "run_control": {
          "frozen": false,
          "read_only": false
        },
        "scrolled": false,
        "id": "-7iL5ZXa2hWv",
        "colab_type": "code",
        "colab": {
          "base_uri": "https://localhost:8080/",
          "height": 1000
        },
        "outputId": "dbc1e8d0-a545-43db-ad09-b551e6d5f38e"
      },
      "source": [
        "from sklearn.decomposition import TruncatedSVD\n",
        "from sklearn.pipeline import make_pipeline\n",
        "from sklearn.preprocessing import Normalizer\n",
        "\n",
        "#Our SVD data reducer.  We are going to reduce the feature space from 1379 to 130.\n",
        "svd= TruncatedSVD(130)\n",
        "lsa = make_pipeline(svd, Normalizer(copy=False))\n",
        "# Run SVD on the training data, then project the training data.\n",
        "X_train_lsa = lsa.fit_transform(X_train_tfidf)\n",
        "\n",
        "variance_explained=svd.explained_variance_ratio_\n",
        "total_variance = variance_explained.sum()\n",
        "print(\"Percent variance captured by all components:\",total_variance*100)\n",
        "\n",
        "#Looking at what sorts of paragraphs our solution considers similar, for the first five identified topics\n",
        "paras_by_component=pd.DataFrame(X_train_lsa,index=X_train)\n",
        "for i in range(5):\n",
        "    print('Component {}:'.format(i))\n",
        "    print(paras_by_component.loc[:,i].sort_values(ascending=False)[0:10])\n",
        "\n",
        "\n"
      ],
      "execution_count": 18,
      "outputs": [
        {
          "output_type": "stream",
          "text": [
            "Percent variance captured by all components: 45.193628187438165\n",
            "Component 0:\n",
            "\" Oh !    0.999287\n",
            "\" Oh !    0.999287\n",
            "\" Oh !    0.999287\n",
            "\" Oh !    0.999287\n",
            "\" Oh !    0.999287\n",
            "\" Oh !    0.999287\n",
            "\" Oh !    0.999287\n",
            "\" Oh !    0.999287\n",
            "\" Oh !    0.999287\n",
            "\" Oh !    0.999287\n",
            "Name: 0, dtype: float64\n",
            "Component 1:\n",
            "\" You have made her too tall , Emma ,\" said Mr . Knightley .                                                                                                                0.634495\n",
            "\" You get upon delicate subjects , Emma ,\" said Mrs . Weston smiling ; \" remember that I am here . Mr .                                                                     0.577613\n",
            "\" I do not know what your opinion may be , Mrs . Weston ,\" said Mr . Knightley , \" of this great intimacy between Emma and Harriet Smith , but I think it a bad thing .\"    0.567957\n",
            "\" You are right , Mrs . Weston ,\" said Mr . Knightley warmly , \" Miss Fairfax is as capable as any of us of forming a just opinion of Mrs . Elton .                         0.564655\n",
            "\" There were misunderstandings between them , Emma ; he said so expressly .                                                                                                 0.528323\n",
            "Mr . Knightley might quarrel with her , but Emma could not quarrel with herself .                                                                                           0.526569\n",
            "Emma found that it was not Mr . Weston ' s fault that the number of privy councillors was not yet larger .                                                                  0.511933\n",
            "\" In one respect , perhaps , Mr . Elton ' s manners are superior to Mr . Knightley ' s or Mr . Weston ' s .                                                                 0.505646\n",
            "\" Now ,\" said Emma , when they were fairly beyond the sweep gates , \" now Mr . Weston , do let me know what has happened .\"                                                 0.504344\n",
            "\" I do not admire it ,\" said Mr . Knightley .                                                                                                                               0.499024\n",
            "Name: 1, dtype: float64\n",
            "Component 2:\n",
            "CHAPTER X     0.998629\n",
            "CHAPTER X     0.998629\n",
            "CHAPTER V     0.998629\n",
            "CHAPTER I     0.998629\n",
            "CHAPTER I     0.998629\n",
            "CHAPTER V     0.998629\n",
            "CHAPTER I     0.998629\n",
            "CHAPTER V     0.998629\n",
            "CHAPTER X     0.998629\n",
            "CHAPTER VI    0.997562\n",
            "Name: 2, dtype: float64\n",
            "Component 3:\n",
            "\" Ah !      0.992916\n",
            "\" Ah !      0.992916\n",
            "\" Ah !      0.992916\n",
            "But ah !    0.992916\n",
            "\" Ah !      0.992916\n",
            "\" Ah !      0.992916\n",
            "\" Ah !\"     0.992916\n",
            "\" Ah !      0.992916\n",
            "\" Ah !      0.992916\n",
            "\" Ah !      0.992916\n",
            "Name: 3, dtype: float64\n",
            "Component 4:\n",
            "\" There were misunderstandings between them , Emma ; he said so expressly .    0.650555\n",
            "Emma demurred .                                                                0.598652\n",
            "\" Are you well , my Emma ?\"                                                    0.598652\n",
            "Emma was silenced .                                                            0.587351\n",
            "At first it was downright dulness to Emma .                                    0.586477\n",
            "\" Emma , my dear Emma \"                                                        0.576635\n",
            "Emma could not resist .                                                        0.568190\n",
            "\" It is not now worth a regret ,\" said Emma .                                  0.546472\n",
            "\" For shame , Emma !                                                           0.544633\n",
            "\" I am ready ,\" said Emma , \" whenever I am wanted .\"                          0.493196\n",
            "Name: 4, dtype: float64\n"
          ],
          "name": "stdout"
        }
      ]
    },
    {
      "cell_type": "markdown",
      "metadata": {
        "run_control": {
          "frozen": false,
          "read_only": false
        },
        "id": "K4dcqrva2hWy",
        "colab_type": "text"
      },
      "source": [
        "From gazing at the most representative sample paragraphs, it appears that component 0 targets the exclamation 'Oh!', component 1 seems to largely involve critical dialogue directed at or about the main character Emma, component 2 is chapter headings, component 3 is exclamations involving 'Ah!, and component 4 involves actions by or directly related to Emma.\n",
        "\n",
        "What fun! \n",
        "\n",
        "# Sentence similarity\n",
        "\n",
        "We can also look at how similar various sentences are to one another.  For example, here are the similarity scores (as a heatmap) of the first 10 sentences in the training set:\n"
      ]
    },
    {
      "cell_type": "code",
      "metadata": {
        "run_control": {
          "frozen": false,
          "read_only": false
        },
        "id": "_IeeF9SV2hWz",
        "colab_type": "code",
        "colab": {
          "base_uri": "https://localhost:8080/",
          "height": 481
        },
        "outputId": "275c0e4f-3275-4b1c-f352-8f7ef3f6fd63"
      },
      "source": [
        "# Compute document similarity using LSA components\n",
        "similarity = np.asarray(np.asmatrix(X_train_lsa) * np.asmatrix(X_train_lsa).T)\n",
        "#Only taking the first 10 sentences\n",
        "sim_matrix=pd.DataFrame(similarity,index=X_train).iloc[0:10,0:10]\n",
        "#Making a plot\n",
        "ax = sns.heatmap(sim_matrix,yticklabels=range(10))\n",
        "plt.show()\n",
        "\n",
        "#Generating a key for the plot.\n",
        "print('Key:')\n",
        "for i in range(10):\n",
        "    print(i,sim_matrix.index[i])\n"
      ],
      "execution_count": 19,
      "outputs": [
        {
          "output_type": "display_data",
          "data": {
            "image/png": "[encoded data removed]",
            "text/plain": [
              "<Figure size 432x288 with 2 Axes>"
            ]
          },
          "metadata": {
            "tags": []
          }
        },
        {
          "output_type": "stream",
          "text": [
            "Key:\n",
            "0 That is _court_ .\n",
            "1 \" Yes , sir , I did indeed ; and I am very much obliged by your kind solicitude about me .\"\n",
            "2 \" How much his business engrosses him already is very plain from the circumstance of his forgetting to inquire for the book you recommended .\n",
            "3 To restrain him as much as might be , by her own manners , she was immediately preparing to speak with exquisite calmness and gravity of the weather and the night ; but scarcely had she begun , scarcely had they passed the sweep - gate and joined the other carriage , than she found her subject cut up  her hand seized  her attention demanded , and Mr . Elton actually making violent love to her : availing himself of the precious opportunity , declaring sentiments which must be already well known , hoping  fearing  adoring  ready to die if she refused him ; but flattering himself that his ardent attachment and unequalled love and unexampled passion could not fail of having some effect , and in short , very much resolved on being seriously accepted as soon as possible .\n",
            "4 Emma smiled and answered \" My visit was of use to the nervous part of her complaint , I hope ; but not even I can charm away a sore throat ; it is a most severe cold indeed .\n",
            "5 A very few minutes more , however , completed the present trial .\n",
            "6 \" I am delighted to hear you speak so stoutly on the subject ,\" replied Emma , smiling ; \" but you do not mean to deny that there was a time  and not very distant either  when you gave me reason to understand that you did care about him ?\"\n",
            "7 \" Very well ; and if he had intended to give her one , he would have told her so .\"\n",
            "8 Some laughed , and answered good - humouredly .\n",
            "9 \" There appeared such a perfectly good understanding among them all \" he began rather quickly , but checking himself , added , \" however , it is impossible for me to say on what terms they really were  how it might all be behind the scenes .\n"
          ],
          "name": "stdout"
        }
      ]
    },
    {
      "cell_type": "markdown",
      "metadata": {
        "run_control": {
          "frozen": false,
          "read_only": false
        },
        "id": "xfUkhE2G2hW3",
        "colab_type": "text"
      },
      "source": [
        "Not much similarity at all except between sentences 8 and 9, both of which seem to describe people getting along well.\n",
        "\n",
        "# Drill 0: Test set\n",
        "\n",
        "Now it's your turn: Apply our LSA model to the test set.  Does it identify similar sentences for components 0 through 4?  "
      ]
    },
    {
      "cell_type": "code",
      "metadata": {
        "run_control": {
          "frozen": false,
          "read_only": false
        },
        "id": "zIFOu1QZ2hW3",
        "colab_type": "code",
        "colab": {
          "base_uri": "https://localhost:8080/",
          "height": 1000
        },
        "outputId": "c5a2783f-9fea-4c0c-cae7-9f40f06ef480"
      },
      "source": [
        "# Remember, you will use the same model, only with the test set data.  Don't fit a new model by mistake!\n",
        "\n",
        "X_test_lsa = lsa.transform(X_test_tfidf)\n",
        "\n",
        "variance_explained=svd.explained_variance_ratio_\n",
        "total_variance = variance_explained.sum()\n",
        "print(\"Percent variance captured by all components:\",total_variance*100)\n",
        "\n",
        "#Looking at what sorts of paragraphs our solution considers similar, for the first five identified topics\n",
        "paras_by_component=pd.DataFrame(X_test_lsa,index=X_test)\n",
        "for i in range(5):\n",
        "    print('Component {}:'.format(i))\n",
        "    print(paras_by_component.loc[:,i].sort_values(ascending=False)[0:10])\n"
      ],
      "execution_count": 20,
      "outputs": [
        {
          "output_type": "stream",
          "text": [
            "Percent variance captured by all components: 45.193628187438165\n",
            "Component 0:\n",
            "\" Me ! oh !    0.999287\n",
            "\" Oh !         0.999287\n",
            "\" Oh no !      0.999287\n",
            "\" Oh !         0.999287\n",
            "\" Oh !\"        0.999287\n",
            "\" Oh !         0.999287\n",
            "\" Oh !         0.999287\n",
            "\" Oh !         0.999287\n",
            "\" Oh !         0.999287\n",
            "\" Oh !         0.999287\n",
            "Name: 0, dtype: float64\n",
            "Component 1:\n",
            "\" Well , Mrs . Weston ,\" said Emma triumphantly when he left them , \" what do you say now to Mr . Knightley ' s marrying Jane Fairfax ?\"                                                                                                                                                                                                                                                                                                                                                                          0.677036\n",
            "Frank turned instantly to Emma , to claim her former promise ; and boasted himself an engaged man , which his father looked his most perfect approbation of  and it then appeared that Mrs . Weston was wanting _him_ to dance with Mrs . Elton himself , and that their business was to help to persuade him into it , which was done pretty soon . Mr . Weston and Mrs . Elton led the way , Mr . Frank Churchill and Miss Woodhouse followed .                                                                 0.610562\n",
            "After tea , Mr . and Mrs . Weston , and Mr . Elton sat down with Mr . Woodhouse to cards .                                                                                                                                                                                                                                                                                                                                                                                                                        0.567250\n",
            "In this walk Emma and Mr . Weston found all the others assembled ; and towards this view she immediately perceived Mr . Knightley and Harriet distinct from the rest , quietly leading the way .                                                                                                                                                                                                                                                                                                                  0.562804\n",
            "\" He is a person I never think of from one month ' s end to another ,\" said Mr . Knightley , with a degree of vexation , which made Emma immediately talk of something else , though she could not comprehend why he should be angry .                                                                                                                                                                                                                                                                            0.555773\n",
            "The result of this distress was , that , with a much more voluntary , cheerful consent than his daughter had ever presumed to hope for at the moment , she was able to fix her wedding - day  and Mr . Elton was called on , within a month from the marriage of Mr . and Mrs . Robert Martin , to join the hands of Mr . Knightley and Miss Woodhouse .                                                                                                                                                          0.548792\n",
            "\" Mrs . Weston ' s manners ,\" said Emma , \" were always particularly good .                                                                                                                                                                                                                                                                                                                                                                                                                                       0.541536\n",
            "Emma was more than half in hopes of Mr . Elton ' s having dropt a hint .                                                                                                                                                                                                                                                                                                                                                                                                                                          0.539152\n",
            "He had frightened her a little about Mr . Elton ; but when she considered that Mr . Knightley could not have observed him as she had done , neither with the interest , nor ( she must be allowed to tell herself , in spite of Mr . Knightley ' s pretensions ) with the skill of such an observer on such a question as herself , that he had spoken it hastily and in anger , she was able to believe , that he had rather said what he wished resentfully to be true , than what he knew any thing about .    0.534786\n",
            "\" Well ,\" said Emma , \" there is no disputing about taste . At least you admire her except her complexion .\"                                                                                                                                                                                                                                                                                                                                                                                                      0.532428\n",
            "Name: 1, dtype: float64\n",
            "Component 2:\n",
            "CHAPTER XIX      0.998629\n",
            "CHAPTER XV       0.998629\n",
            "CHAPTER XVIII    0.998629\n",
            "CHAPTER XV       0.998629\n",
            "CHAPTER XV       0.998629\n",
            "CHAPTER XVIII    0.998629\n",
            "CHAPTER XVIII    0.998629\n",
            "CHAPTER VI       0.997562\n",
            "CHAPTER VI       0.997562\n",
            "CHAPTER XIII     0.997554\n",
            "Name: 2, dtype: float64\n",
            "Component 3:\n",
            "\" Ah !     0.992916\n",
            "\" Ah !     0.992916\n",
            "\" Ah !     0.992916\n",
            "\" Ah !\"    0.992916\n",
            "\" Ah !     0.992916\n",
            "\" Ah !     0.992916\n",
            "\" Ah !     0.992916\n",
            "\" Ah !     0.992916\n",
            "\" Ah !     0.992916\n",
            "\" Ah !     0.992916\n",
            "Name: 3, dtype: float64\n",
            "Component 4:\n",
            "\" No , no ,\" said Emma , \" it will not reckon low .                                                                                                 0.630907\n",
            "Nobody had any information to give ; and , after a few more wonderings , Emma said ,                                                                0.630635\n",
            "\" Well ,\" said Emma , \" there is no disputing about taste . At least you admire her except her complexion .\"                                        0.620602\n",
            "\" My Emma !\"                                                                                                                                        0.598652\n",
            "\" Emma !\"                                                                                                                                           0.598652\n",
            "Emma had done .                                                                                                                                     0.598652\n",
            "Emma wondered on what , of all the medley , she would fix .                                                                                         0.593693\n",
            "\" And I do envy him , Emma .                                                                                                                        0.592804\n",
            "\" Emma ,\" said she , \" this paper is worse than I expected .                                                                                        0.590400\n",
            "\" Such an imagination has crossed me , I own , Emma ; and if it never occurred to you before , you may as well take it into consideration now .\"    0.553928\n",
            "Name: 4, dtype: float64\n"
          ],
          "name": "stdout"
        }
      ]
    },
    {
      "cell_type": "markdown",
      "metadata": {
        "run_control": {
          "frozen": false,
          "read_only": false
        },
        "id": "QuDt56Jd2hW5",
        "colab_type": "text"
      },
      "source": [
        "# Drill 1: Tweaking tf-idf\n",
        "\n",
        "Go back up to the code where we originally translated the text from words to numbers.  There are a lot of decision-points here, from the stop list to the thresholds for inclusion and exclusion, and many others as well.  We also didn't integrate spaCy, and so don't have info on lemmas or Named Entities.  Change things up a few times and see how that affects the results of the LSA.  Write up your observations and share them with your mentor."
      ]
    },
    {
      "cell_type": "code",
      "metadata": {
        "run_control": {
          "frozen": false,
          "read_only": false
        },
        "id": "s0TVSTAp2hW6",
        "colab_type": "code",
        "colab": {}
      },
      "source": [
        "#Percent variance captured by all components: 45.19299546220418\n",
        "#Tweaks Go Here\n",
        "\n",
        "#changed it to .3 for max df and 3 for min df  resulting in Percent variance captured by all components: 45.19679213568417\n",
        "\n",
        "#changed it to .6 for max df and 2 for min df  resulting in Percent variance captured by all components: 45.193628187438165\n"
      ],
      "execution_count": 0,
      "outputs": []
    },
    {
      "cell_type": "markdown",
      "metadata": {
        "run_control": {
          "frozen": false,
          "read_only": false
        },
        "id": "OOfjE3Di2hW8",
        "colab_type": "text"
      },
      "source": [
        "LSA is one of many unsupervised methods that can be applied to text data.  There will be opportunities later to dive more deeply into this topic and encounter other methods.\n",
        "\n",
        "Although we have presented LSA as an unsupervised method, it can also be used to prepare text data for classification in supervised learning.  In that case, the goal would be to use LSA to arrive at a smaller set of features that can be used to build a supervised model that will classify text into pre-labelled categories.\n",
        "\n",
        "LSA isn't perfect- while it is good for dealing with synonyms, it cannot handle polysemy.  For that, we will need to try out a neural network approach.\n",
        "\n",
        "This assignment has a lot of moving parts- text processing, tf-idf, using single value decomposition on text, and finally interpreting the results of the LSA.  Make sure to spend enough time playing with the code to feel comfortable with all of these aspects before moving on."
      ]
    }
  ]
}