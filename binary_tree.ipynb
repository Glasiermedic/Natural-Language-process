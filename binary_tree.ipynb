{
  "nbformat": 4,
  "nbformat_minor": 0,
  "metadata": {
    "colab": {
      "name": "binary_tree.ipynb",
      "version": "0.3.2",
      "provenance": [],
      "include_colab_link": true
    },
    "kernelspec": {
      "name": "python3",
      "display_name": "Python 3"
    }
  },
  "cells": [
    {
      "cell_type": "markdown",
      "metadata": {
        "id": "view-in-github",
        "colab_type": "text"
      },
      "source": [
        "<a href=\"https://colab.research.google.com/github/Glasiermedic/Natural-Language-process/blob/master/binary_tree.ipynb\" target=\"_parent\"><img src=\"https://colab.research.google.com/assets/colab-badge.svg\" alt=\"Open In Colab\"/></a>"
      ]
    },
    {
      "cell_type": "code",
      "metadata": {
        "id": "P4F_3EZpyxI0",
        "colab_type": "code",
        "colab": {}
      },
      "source": [
        "from random import randint\n",
        "import random\n",
        "\n",
        "\n",
        "class Node:\n",
        "    def __init__(self, val):\n",
        "        self.left = None\n",
        "        self.right = None\n",
        "        self.val = val\n",
        "        \n",
        "seed = 1\n",
        "wtree = list(random.sample(range(1000000), 15))\n",
        "        \n",
        "        \n",
        "# Establish the  nodes\n",
        "root = Node(wtree[0])\n",
        "root.left = Node(wtree[1])\n",
        "root.right = Node(wtree[2])\n",
        "root.left.left = Node(wtree[3])\n",
        "root.left.right = Node(wtree[4])\n",
        "root.right.left = Node(wtree[5])\n",
        "root.right.right = Node(wtree[6])\n",
        "root.left.left.left = Node(wtree[7])\n",
        "root.left.left.right = Node(wtree[8])\n",
        "root.left.right.left = Node(wtree[9])\n",
        "root.left.right.right = Node(wtree[10])\n",
        "root.right.left.left = Node(wtree[11])\n",
        "root.right.left.right = Node(wtree[12])\n",
        "root.right.right.left = Node(wtree[13])\n",
        "root.right.right.right = Node(wtree[14])\n",
        "\n"
      ],
      "execution_count": 0,
      "outputs": []
    },
    {
      "cell_type": "code",
      "metadata": {
        "id": "0N_67q3Q6fpr",
        "colab_type": "code",
        "colab": {
          "base_uri": "https://localhost:8080/",
          "height": 360
        },
        "outputId": "01694ba4-1a34-406f-98d2-9635c5ebd185"
      },
      "source": [
        "def traverse(root_node):\n",
        "    this_level = [root_node]\n",
        "    while this_level:\n",
        "        next_level = list()\n",
        "        for n in this_level:\n",
        "            print(n.val)\n",
        "            if n.left: next_level.append(n.left)\n",
        "            if n.right: next_level.append(n.right)\n",
        "        print(this_level)\n",
        "        this_level = next_level\n",
        " \n",
        "traverse(root)"
      ],
      "execution_count": 17,
      "outputs": [
        {
          "output_type": "stream",
          "text": [
            "379225\n",
            "[<__main__.Node object at 0x7f1f1e557588>]\n",
            "456929\n",
            "144194\n",
            "[<__main__.Node object at 0x7f1f1e5499e8>, <__main__.Node object at 0x7f1f1e5574e0>]\n",
            "609190\n",
            "622042\n",
            "428404\n",
            "863503\n",
            "[<__main__.Node object at 0x7f1f1e5575c0>, <__main__.Node object at 0x7f1f1e5575f8>, <__main__.Node object at 0x7f1f1e557630>, <__main__.Node object at 0x7f1f1e557668>]\n",
            "209115\n",
            "422021\n",
            "843524\n",
            "380976\n",
            "820887\n",
            "701460\n",
            "13344\n",
            "69712\n",
            "[<__main__.Node object at 0x7f1f1e5576a0>, <__main__.Node object at 0x7f1f1e5576d8>, <__main__.Node object at 0x7f1f1e557710>, <__main__.Node object at 0x7f1f1e557748>, <__main__.Node object at 0x7f1f1e557780>, <__main__.Node object at 0x7f1f1e5577b8>, <__main__.Node object at 0x7f1f1e5577f0>, <__main__.Node object at 0x7f1f1e557828>]\n"
          ],
          "name": "stdout"
        }
      ]
    },
    {
      "cell_type": "code",
      "metadata": {
        "id": "KZGXugfC6w3_",
        "colab_type": "code",
        "colab": {}
      },
      "source": [
        ""
      ],
      "execution_count": 0,
      "outputs": []
    },
    {
      "cell_type": "code",
      "metadata": {
        "id": "pjgsoPRF7bio",
        "colab_type": "code",
        "colab": {}
      },
      "source": [
        ""
      ],
      "execution_count": 0,
      "outputs": []
    },
    {
      "cell_type": "code",
      "metadata": {
        "id": "8MKM4hD28emg",
        "colab_type": "code",
        "colab": {}
      },
      "source": [
        ""
      ],
      "execution_count": 0,
      "outputs": []
    }
  ]
}