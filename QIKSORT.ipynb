{
  "nbformat": 4,
  "nbformat_minor": 0,
  "metadata": {
    "colab": {
      "name": "QIKSORT.ipynb",
      "version": "0.3.2",
      "provenance": [],
      "include_colab_link": true
    },
    "kernelspec": {
      "name": "python3",
      "display_name": "Python 3"
    }
  },
  "cells": [
    {
      "cell_type": "markdown",
      "metadata": {
        "id": "view-in-github",
        "colab_type": "text"
      },
      "source": [
        "<a href=\"https://colab.research.google.com/github/Glasiermedic/Natural-Language-process/blob/master/QIKSORT.ipynb\" target=\"_parent\"><img src=\"https://colab.research.google.com/assets/colab-badge.svg\" alt=\"Open In Colab\"/></a>"
      ]
    },
    {
      "cell_type": "code",
      "metadata": {
        "id": "5QQpKMl3hOd6",
        "colab_type": "code",
        "colab": {
          "base_uri": "https://localhost:8080/",
          "height": 51
        },
        "outputId": "4f831d40-f2ee-4aa0-a89d-f0eb8d1ad923"
      },
      "source": [
        "def parter(presort, begining, ending):\n",
        "  follower = leader = begining\n",
        "  while leader < ending:\n",
        "    if presort[leader] <= presort[ending]:\n",
        "      presort[follower], presort[leader] = presort[leader], presort[follower]\n",
        "      follower += 1\n",
        "    leader += 1\n",
        "  presort[follower], presort[ending] = presort[ending], presort[follower]\n",
        "  return follower\n",
        "\n",
        "def _quicksort(presort, begining, ending):\n",
        "  if begining >= ending:\n",
        "    return\n",
        "  p = parter(presort, begining, ending)\n",
        "  _quicksort(presort, begining, p-1)\n",
        "  _quicksort(presort, p+1, ending)\n",
        "  \n",
        "def quicksort(presort):\n",
        "  _quicksort(presort, 0, len(presort)-1)\n",
        "  \n",
        "    \n",
        "presort= [4,3,4,5,6,2,6,9,3,2,1,34,5,32,2]  \n",
        "\n",
        "quicksort(presort)\n",
        "  \n",
        "  \n",
        "print(\"Sorted list of size {}\".format(len(presort)))\n",
        "print (presort)"
      ],
      "execution_count": 17,
      "outputs": [
        {
          "output_type": "stream",
          "text": [
            "Sorted list of size 15\n",
            "[1, 2, 2, 2, 3, 3, 4, 4, 5, 5, 6, 6, 9, 32, 34]\n"
          ],
          "name": "stdout"
        }
      ]
    },
    {
      "cell_type": "code",
      "metadata": {
        "id": "q2VpA32nk10j",
        "colab_type": "code",
        "colab": {}
      },
      "source": [
        ""
      ],
      "execution_count": 0,
      "outputs": []
    }
  ]
}